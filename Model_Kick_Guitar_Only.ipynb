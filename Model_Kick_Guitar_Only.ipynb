{
 "cells": [
  {
   "cell_type": "code",
   "execution_count": 2,
   "metadata": {
    "collapsed": true
   },
   "outputs": [],
   "source": [
    "import numpy as np\n",
    "import pandas as pd"
   ]
  },
  {
   "cell_type": "code",
   "execution_count": 4,
   "metadata": {
    "collapsed": true
   },
   "outputs": [],
   "source": [
    "breakdowns = pd.read_csv('desolationofeden_guitarkick.csv')"
   ]
  },
  {
   "cell_type": "code",
   "execution_count": 5,
   "metadata": {
    "collapsed": true
   },
   "outputs": [],
   "source": [
    "breakdowns.drop(breakdowns.columns[[0, 1]], axis=1, inplace=True)"
   ]
  },
  {
   "cell_type": "code",
   "execution_count": 129,
   "metadata": {},
   "outputs": [
    {
     "data": {
      "text/html": [
       "<div>\n",
       "<style>\n",
       "    .dataframe thead tr:only-child th {\n",
       "        text-align: right;\n",
       "    }\n",
       "\n",
       "    .dataframe thead th {\n",
       "        text-align: left;\n",
       "    }\n",
       "\n",
       "    .dataframe tbody tr th {\n",
       "        vertical-align: top;\n",
       "    }\n",
       "</style>\n",
       "<table border=\"1\" class=\"dataframe\">\n",
       "  <thead>\n",
       "    <tr style=\"text-align: right;\">\n",
       "      <th></th>\n",
       "      <th>Kick</th>\n",
       "      <th>E</th>\n",
       "      <th>A</th>\n",
       "      <th>Articulation</th>\n",
       "    </tr>\n",
       "  </thead>\n",
       "  <tbody>\n",
       "    <tr>\n",
       "      <th>0</th>\n",
       "      <td>0.0</td>\n",
       "      <td>1</td>\n",
       "      <td>0.0</td>\n",
       "      <td>0.0</td>\n",
       "    </tr>\n",
       "    <tr>\n",
       "      <th>1</th>\n",
       "      <td>0.0</td>\n",
       "      <td>1</td>\n",
       "      <td>0.0</td>\n",
       "      <td>0.0</td>\n",
       "    </tr>\n",
       "    <tr>\n",
       "      <th>2</th>\n",
       "      <td>0.0</td>\n",
       "      <td>1</td>\n",
       "      <td>0.0</td>\n",
       "      <td>0.0</td>\n",
       "    </tr>\n",
       "    <tr>\n",
       "      <th>3</th>\n",
       "      <td>0.0</td>\n",
       "      <td>1</td>\n",
       "      <td>0.0</td>\n",
       "      <td>1.0</td>\n",
       "    </tr>\n",
       "    <tr>\n",
       "      <th>4</th>\n",
       "      <td>NaN</td>\n",
       "      <td>NaN</td>\n",
       "      <td>NaN</td>\n",
       "      <td>NaN</td>\n",
       "    </tr>\n",
       "    <tr>\n",
       "      <th>5</th>\n",
       "      <td>0.0</td>\n",
       "      <td>1</td>\n",
       "      <td>0.0</td>\n",
       "      <td>0.0</td>\n",
       "    </tr>\n",
       "    <tr>\n",
       "      <th>6</th>\n",
       "      <td>0.0</td>\n",
       "      <td>1</td>\n",
       "      <td>0.0</td>\n",
       "      <td>1.0</td>\n",
       "    </tr>\n",
       "    <tr>\n",
       "      <th>7</th>\n",
       "      <td>NaN</td>\n",
       "      <td>NaN</td>\n",
       "      <td>NaN</td>\n",
       "      <td>NaN</td>\n",
       "    </tr>\n",
       "    <tr>\n",
       "      <th>8</th>\n",
       "      <td>0.0</td>\n",
       "      <td>1</td>\n",
       "      <td>0.0</td>\n",
       "      <td>0.0</td>\n",
       "    </tr>\n",
       "    <tr>\n",
       "      <th>9</th>\n",
       "      <td>0.0</td>\n",
       "      <td>1</td>\n",
       "      <td>0.0</td>\n",
       "      <td>0.0</td>\n",
       "    </tr>\n",
       "  </tbody>\n",
       "</table>\n",
       "</div>"
      ],
      "text/plain": [
       "   Kick    E    A  Articulation\n",
       "0   0.0    1  0.0           0.0\n",
       "1   0.0    1  0.0           0.0\n",
       "2   0.0    1  0.0           0.0\n",
       "3   0.0    1  0.0           1.0\n",
       "4   NaN  NaN  NaN           NaN\n",
       "5   0.0    1  0.0           0.0\n",
       "6   0.0    1  0.0           1.0\n",
       "7   NaN  NaN  NaN           NaN\n",
       "8   0.0    1  0.0           0.0\n",
       "9   0.0    1  0.0           0.0"
      ]
     },
     "execution_count": 129,
     "metadata": {},
     "output_type": "execute_result"
    }
   ],
   "source": [
    "breakdowns.head(10)"
   ]
  },
  {
   "cell_type": "code",
   "execution_count": 6,
   "metadata": {
    "collapsed": true
   },
   "outputs": [],
   "source": [
    "X = breakdowns.fillna(-1)"
   ]
  },
  {
   "cell_type": "markdown",
   "metadata": {},
   "source": [
    "### Get \"Vocab\" (number of unique row configurations)"
   ]
  },
  {
   "cell_type": "code",
   "execution_count": 8,
   "metadata": {
    "collapsed": true
   },
   "outputs": [],
   "source": [
    "def get_vocab(X):\n",
    "    full_vocab = []\n",
    "    vocab = []\n",
    "    indices_vocab = dict()\n",
    "    vocab_indices = dict()\n",
    "    for row in X.as_matrix():\n",
    "        full_vocab.append(list(row))\n",
    "        if list(row) not in vocab:\n",
    "            vocab.append(list(row))\n",
    "            indices_vocab.update({vocab.index(list(row)): list(row)})\n",
    "            vocab_indices.update({str(list(row)): vocab.index(list(row))})\n",
    "    return full_vocab, vocab, indices_vocab, vocab_indices"
   ]
  },
  {
   "cell_type": "code",
   "execution_count": 9,
   "metadata": {
    "collapsed": true
   },
   "outputs": [],
   "source": [
    "full_vocab, vocab, indices_vocab, vocab_indices = get_vocab(X)"
   ]
  },
  {
   "cell_type": "code",
   "execution_count": 137,
   "metadata": {},
   "outputs": [
    {
     "data": {
      "text/plain": [
       "{\"[-1.0, '0', -1.0, 3.0]\": 5,\n",
       " \"[-1.0, '0', 0.0, 0.0]\": 13,\n",
       " \"[-1.0, '1', -1.0, 2.0]\": 38,\n",
       " \"[-1.0, '1', 0.0, 0.0]\": 45,\n",
       " \"[-1.0, '2', -1.0, 3.0]\": 27,\n",
       " \"[-1.0, '3', -1.0, 3.0]\": 26,\n",
       " \"[-1.0, '3', -1.0, 4.0]\": 14,\n",
       " \"[-1.0, '6', -1.0, 3.0]\": 25,\n",
       " '[-1.0, -1, -1.0, -1.0]': 2,\n",
       " \"[0.0, '0', -1.0, 2.0]\": 6,\n",
       " \"[0.0, '0', -1.0, 3.0]\": 3,\n",
       " \"[0.0, '0', 0.0, 0.0]\": 7,\n",
       " \"[0.0, '0', 0.0, 1.0]\": 34,\n",
       " \"[0.0, '0', 0.0, 3.0]\": 9,\n",
       " \"[0.0, '0', 1.0, 0.0]\": 22,\n",
       " \"[0.0, '1', -1.0, 2.0]\": 37,\n",
       " \"[0.0, '1', 0.0, 0.0]\": 0,\n",
       " \"[0.0, '1', 0.0, 1.0]\": 1,\n",
       " \"[0.0, '1', 1.0, 0.0]\": 19,\n",
       " \"[0.0, '1', 1.0, 3.0]\": 8,\n",
       " \"[0.0, '11', -1.0, 3.0]\": 43,\n",
       " \"[0.0, '2', -1.0, 2.0]\": 36,\n",
       " \"[0.0, '2', -1.0, 3.0]\": 23,\n",
       " \"[0.0, '2', 1.0, 0.0]\": 32,\n",
       " \"[0.0, '2', 2.0, 1.0]\": 41,\n",
       " \"[0.0, '3', -1.0, 2.0]\": 35,\n",
       " \"[0.0, '3', -1.0, 3.0]\": 16,\n",
       " \"[0.0, '3', -1.0, 4.0]\": 15,\n",
       " \"[0.0, '3', 2.0, 0.0]\": 31,\n",
       " \"[0.0, '3', 3.0, 0.0]\": 21,\n",
       " \"[0.0, '3', 3.0, 1.0]\": 40,\n",
       " \"[0.0, '3', 3.0, 3.0]\": 10,\n",
       " \"[0.0, '4', 4.0, 0.0]\": 20,\n",
       " \"[0.0, '6', -1.0, 3.0]\": 24,\n",
       " '[0.0, -1, -1.0, -1.0]': 4,\n",
       " \"[1.0, ' ', -1.0, -1.0]\": 28,\n",
       " \"[1.0, '0', -1.0, 2.0]\": 44,\n",
       " \"[1.0, '0', 0.0, 0.0]\": 11,\n",
       " \"[1.0, '0', 0.0, 0.5]\": 17,\n",
       " \"[1.0, '1', 0.0, 0.0]\": 46,\n",
       " \"[1.0, '1', 0.0, 0.5]\": 30,\n",
       " \"[1.0, '1', 1.0, 0.5]\": 18,\n",
       " \"[1.0, '1', 1.0, 1.0]\": 42,\n",
       " \"[1.0, '2', -1.0, 2.0]\": 39,\n",
       " \"[1.0, '2', -1.0, 3.0]\": 29,\n",
       " \"[1.0, '2', 1.0, 0.0]\": 33,\n",
       " '[1.0, -1, -1.0, -1.0]': 12}"
      ]
     },
     "execution_count": 137,
     "metadata": {},
     "output_type": "execute_result"
    }
   ],
   "source": [
    "vocab_indices"
   ]
  },
  {
   "cell_type": "markdown",
   "metadata": {},
   "source": [
    "### Split into Semi-Redundant Sequences of Fixed Length"
   ]
  },
  {
   "cell_type": "code",
   "execution_count": 10,
   "metadata": {
    "collapsed": true
   },
   "outputs": [],
   "source": [
    "maxlen = 32\n",
    "step = 4\n",
    "sequences = []\n",
    "next_beat = []"
   ]
  },
  {
   "cell_type": "code",
   "execution_count": 11,
   "metadata": {
    "collapsed": true
   },
   "outputs": [],
   "source": [
    "for i in range(0, len(full_vocab)-maxlen, step):\n",
    "    sequences.append(full_vocab[i: i+maxlen])\n",
    "    next_beat.append(full_vocab[i + maxlen])"
   ]
  },
  {
   "cell_type": "markdown",
   "metadata": {},
   "source": [
    "##### Helper Function from fchollet/keras/blob/master/examples/lstm_text_generation.py"
   ]
  },
  {
   "cell_type": "code",
   "execution_count": 12,
   "metadata": {
    "collapsed": true
   },
   "outputs": [],
   "source": [
    "def sample(preds, temperature=1.0):\n",
    "    # helper function to sample an index from a probability array\n",
    "    preds = np.asarray(preds).astype('float64')\n",
    "    preds = np.log(preds) / temperature\n",
    "    exp_preds = np.exp(preds)\n",
    "    preds = exp_preds / np.sum(exp_preds)\n",
    "    probas = np.random.multinomial(1, preds, 1)\n",
    "    return np.argmax(probas)"
   ]
  },
  {
   "cell_type": "markdown",
   "metadata": {},
   "source": [
    "### Vectorization"
   ]
  },
  {
   "cell_type": "code",
   "execution_count": 13,
   "metadata": {
    "collapsed": true
   },
   "outputs": [],
   "source": [
    "X = np.zeros((len(sequences), maxlen, len(vocab)), dtype=np.bool)\n",
    "y = np.zeros((len(sequences), len(vocab)), dtype=np.bool)"
   ]
  },
  {
   "cell_type": "code",
   "execution_count": 14,
   "metadata": {
    "collapsed": true
   },
   "outputs": [],
   "source": [
    "for i, measures in enumerate(sequences):\n",
    "    for t, beat in enumerate(measures):\n",
    "        X[i, t, vocab_indices[str(beat)]] = 1\n",
    "    y[i, vocab_indices[str(next_beat[i])]] = 1"
   ]
  },
  {
   "cell_type": "code",
   "execution_count": 131,
   "metadata": {},
   "outputs": [
    {
     "data": {
      "text/plain": [
       "(924, 32, 47)"
      ]
     },
     "execution_count": 131,
     "metadata": {},
     "output_type": "execute_result"
    }
   ],
   "source": [
    "X.shape"
   ]
  },
  {
   "cell_type": "code",
   "execution_count": 139,
   "metadata": {},
   "outputs": [
    {
     "data": {
      "text/plain": [
       "array([False,  True, False, False, False, False, False, False, False,\n",
       "       False, False, False, False, False, False, False, False, False,\n",
       "       False, False, False, False, False, False, False, False, False,\n",
       "       False, False, False, False, False, False, False, False, False,\n",
       "       False, False, False, False, False, False, False, False, False,\n",
       "       False, False], dtype=bool)"
      ]
     },
     "execution_count": 139,
     "metadata": {},
     "output_type": "execute_result"
    }
   ],
   "source": [
    "X[0][3]"
   ]
  },
  {
   "cell_type": "code",
   "execution_count": 135,
   "metadata": {},
   "outputs": [
    {
     "data": {
      "text/plain": [
       "array([[ True, False, False, ..., False, False, False],\n",
       "       [ True, False, False, ..., False, False, False],\n",
       "       [ True, False, False, ..., False, False, False],\n",
       "       ..., \n",
       "       [ True, False, False, ..., False, False, False],\n",
       "       [False,  True, False, ..., False, False, False],\n",
       "       [False, False,  True, ..., False, False, False]], dtype=bool)"
      ]
     },
     "execution_count": 135,
     "metadata": {},
     "output_type": "execute_result"
    }
   ],
   "source": [
    "X[0]"
   ]
  },
  {
   "cell_type": "markdown",
   "metadata": {},
   "source": [
    "### Model"
   ]
  },
  {
   "cell_type": "code",
   "execution_count": 15,
   "metadata": {},
   "outputs": [
    {
     "name": "stderr",
     "output_type": "stream",
     "text": [
      "Using TensorFlow backend.\n"
     ]
    }
   ],
   "source": [
    "import sys\n",
    "import os\n",
    "os.environ[\"KERAS_BACKEND\"] = \"tensorflow\"\n",
    "\n",
    "import keras\n",
    "from keras.models import Sequential\n",
    "from keras.layers import LSTM\n",
    "from keras.layers import Dense, Activation\n",
    "from keras.optimizers import RMSprop"
   ]
  },
  {
   "cell_type": "code",
   "execution_count": 125,
   "metadata": {
    "collapsed": true
   },
   "outputs": [],
   "source": [
    "model = Sequential()\n",
    "\n",
    "model.add(LSTM(128, input_shape=(X.shape[1], X.shape[2])))\n",
    "model.add(Dense(len(vocab)))\n",
    "model.add(Activation('softmax'))\n",
    "\n",
    "optimizer = RMSprop(lr=0.01)\n",
    "model.compile(loss='categorical_crossentropy', optimizer=optimizer)"
   ]
  },
  {
   "cell_type": "code",
   "execution_count": 121,
   "metadata": {
    "collapsed": true
   },
   "outputs": [],
   "source": [
    "from keras.callbacks import TensorBoard\n",
    "\n",
    "tensorboard = TensorBoard(log_dir='./logs', histogram_freq=0,\n",
    "                          write_graph=True, write_images=False)"
   ]
  },
  {
   "cell_type": "code",
   "execution_count": 123,
   "metadata": {
    "collapsed": true
   },
   "outputs": [],
   "source": [
    "tensorboard.set_model(model)"
   ]
  },
  {
   "cell_type": "markdown",
   "metadata": {},
   "source": [
    "### Train Model"
   ]
  },
  {
   "cell_type": "code",
   "execution_count": null,
   "metadata": {
    "scrolled": false
   },
   "outputs": [],
   "source": [
    "for iteration in range(1, 201):\n",
    "    print()\n",
    "    print('-' * 50)\n",
    "    print('Iteration', iteration)\n",
    "    model.fit(X, y,\n",
    "              batch_size=128,\n",
    "              epochs=1,\n",
    "              callbacks=[tensorboard])\n",
    "\n",
    "    start_index = np.random.randint(0, (len(full_vocab)-maxlen)//32)\n",
    "    start_index = start_index * 32\n",
    "    \n",
    "    if iteration%50 == 0 or iteration == 1:\n",
    "        \n",
    "        for diversity in [0.2, 0.5, 1.0, 1.2]:\n",
    "            print()\n",
    "            print('----- diversity:', diversity)\n",
    "\n",
    "            generated = []\n",
    "            sequence = full_vocab[start_index: start_index + maxlen]\n",
    "            generated.append(sequence)\n",
    "            \n",
    "            print('===== seed:', sequence)\n",
    "        \n",
    "            for i in range(256):\n",
    "                x = np.zeros((1, maxlen, len(vocab)))\n",
    "                for t, beat in enumerate(sequence):\n",
    "                    x[0, t, vocab_indices[str(beat)]] = 1.\n",
    "\n",
    "                preds = model.predict(x, verbose=0)[0]\n",
    "                next_index = sample(preds, diversity)\n",
    "                next_beat = indices_vocab[next_index]\n",
    "\n",
    "                generated.append(next_beat)\n",
    "                sequence = sequence[1:]\n",
    "                sequence.append(next_beat)\n",
    "            \n",
    "                sys.stdout.write(str(next_beat)+'\\n')\n",
    "                sys.stdout.flush()\n",
    "            print()   "
   ]
  },
  {
   "cell_type": "code",
   "execution_count": null,
   "metadata": {
    "collapsed": true
   },
   "outputs": [],
   "source": []
  }
 ],
 "metadata": {
  "kernelspec": {
   "display_name": "Python 3",
   "language": "python",
   "name": "python3"
  },
  "language_info": {
   "codemirror_mode": {
    "name": "ipython",
    "version": 3
   },
   "file_extension": ".py",
   "mimetype": "text/x-python",
   "name": "python",
   "nbconvert_exporter": "python",
   "pygments_lexer": "ipython3",
   "version": "3.6.2"
  }
 },
 "nbformat": 4,
 "nbformat_minor": 2
}
